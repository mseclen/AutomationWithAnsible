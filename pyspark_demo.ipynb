{
  "nbformat": 4,
  "nbformat_minor": 0,
  "metadata": {
    "colab": {
      "provenance": [],
      "collapsed_sections": [],
      "include_colab_link": true
    },
    "kernelspec": {
      "name": "python3",
      "display_name": "Python 3"
    },
    "language_info": {
      "name": "python"
    }
  },
  "cells": [
    {
      "cell_type": "markdown",
      "metadata": {
        "id": "view-in-github",
        "colab_type": "text"
      },
      "source": [
        "<a href=\"https://colab.research.google.com/github/mseclen/AutomationWithAnsible/blob/master/pyspark_demo.ipynb\" target=\"_parent\"><img src=\"https://colab.research.google.com/assets/colab-badge.svg\" alt=\"Open In Colab\"/></a>"
      ]
    },
    {
      "cell_type": "code",
      "execution_count": null,
      "metadata": {
        "id": "u8O_pa28rVnY"
      },
      "outputs": [],
      "source": [
        "!apt-get install openjdk-8-jdk-headless -qq > /dev/null\n",
        "!wget -q https://dlcdn.apache.org/spark/spark-3.3.0/spark-3.3.0-bin-hadoop3.tgz\n",
        "!tar xf spark-3.3.0-bin-hadoop3.tgz\n",
        "!pip install -q pyspark"
      ]
    },
    {
      "cell_type": "code",
      "source": [
        "import os\n",
        "os.environ[\"JAVA_HOME\"] = \"/usr/lib/jvm/java-8-openjdk-amd64\"\n",
        "os.environ[\"SPARK_HOME\"] = \"/content/spark-3.3.0-bin-hadoop3\"\n",
        "os.environ[\"GOOGLE_CLOUD_PROJECT\"] = \"data-intelligence-prepro\""
      ],
      "metadata": {
        "id": "RHrFTxro6tUV"
      },
      "execution_count": null,
      "outputs": []
    },
    {
      "cell_type": "code",
      "source": [
        "from google.colab import auth\n",
        "auth.authenticate_user()"
      ],
      "metadata": {
        "id": "_IXGIRaQrlAh"
      },
      "execution_count": null,
      "outputs": []
    },
    {
      "cell_type": "code",
      "source": [
        "project_id = 'data-intelligence-prepro'\n",
        "!gcloud config set project {project_id}"
      ],
      "metadata": {
        "colab": {
          "base_uri": "https://localhost:8080/"
        },
        "id": "uiMPTLvIr4vn",
        "outputId": "abf5e826-0d14-47a4-dd9c-d480ba3b1a47"
      },
      "execution_count": null,
      "outputs": [
        {
          "output_type": "stream",
          "name": "stdout",
          "text": [
            "Updated property [core/project].\n"
          ]
        }
      ]
    },
    {
      "cell_type": "code",
      "source": [
        "from google.cloud import storage\n",
        "from pyspark.sql import SparkSession"
      ],
      "metadata": {
        "id": "9-fpip8dr9Rv"
      },
      "execution_count": null,
      "outputs": []
    },
    {
      "cell_type": "code",
      "source": [
        "# para la demo usar master local. para un ambiente dataproc usar\n",
        "spark = SparkSession \\\n",
        "  .builder \\\n",
        "  .config(\"spark.jars.packages\", \"com.google.cloud.spark:spark-bigquery-with-dependencies_2.12:0.25.2\") \\\n",
        "  .master('local') \\\n",
        "  .appName('spark-bigquery-demo') \\\n",
        "  .getOrCreate()"
      ],
      "metadata": {
        "id": "6covQYX4tBJV"
      },
      "execution_count": null,
      "outputs": []
    },
    {
      "cell_type": "code",
      "source": [
        "temp_bucket = \"sky_lakehouse_temps_dev\"\n",
        "spark.conf.set('temporaryGcsBucket', temp_bucket)\n",
        "\n",
        "payments = spark.read.format('bigquery') \\\n",
        "  .option('table', 'data-intelligence-350116:ODS_RADIXX.tb_enh_payment') \\\n",
        "  .option(\"filter\", \" ID_DATE_BQ='2022-07-05' \") \\\n",
        "  .load()"
      ],
      "metadata": {
        "id": "rQ9fr4Y9yGt6"
      },
      "execution_count": null,
      "outputs": []
    },
    {
      "cell_type": "markdown",
      "source": [
        "# Nueva sección"
      ],
      "metadata": {
        "id": "mFjGd8iNenUI"
      }
    },
    {
      "cell_type": "code",
      "source": [
        "payments.createOrReplaceTempView('payments')"
      ],
      "metadata": {
        "id": "eb0tCnT9_my7"
      },
      "execution_count": null,
      "outputs": []
    },
    {
      "cell_type": "code",
      "source": [
        "payments.show()"
      ],
      "metadata": {
        "colab": {
          "base_uri": "https://localhost:8080/"
        },
        "id": "3E6Fpzy9BVtE",
        "outputId": "7168fb79-cc56-48a8-afdc-5a2844a96822"
      },
      "execution_count": null,
      "outputs": [
        {
          "output_type": "stream",
          "name": "stdout",
          "text": [
            "+----------+-------+--------+--------------------+----------+--------+--------------+----------+----------------+-------------+----------------------+-----------+--------------------+--------------+-----------------------+------------+--------------------+--------------+------------------------+-------------------+--------------------------+--------------+----------------+--------+--------------+----------------+-------------+----------+-------------+----------------+---------+---------------+-----------+--------------------+------+-------------+--------------------+-----------------+-----------+-----------+--------------------+-------------------+-----------------------+-----------+--------------+--------------+--------------+--------------+--------------+--------------+----------------+--------------------+--------------------+------------------+---+-----------+--------+\n",
            "|ID_DATE_BQ|VIGENTE| ID_DATE|              ID_KEY|PAYMENT_ID|PAYER_ID|RESERVATION_ID|SERIES_NUM|CONFIRMATION_NUM|DEPARTMENT_ID|DEPARTMENT_DESCRIPTION|LOCATION_ID|LOCATION_DESCRIPTION|PMT_CHANNEL_ID|PMT_CHANNEL_DESCRIPTION|     USER_ID|           DATE_PAID|TRAN_STATUS_ID|TRANS_STATUS_DESCRIPTION|PAYMENT_METHOD_CODE|PAYMENT_METHOD_DESCRIPTION|COST_CENTER_ID|COST_CENTER_CODE|IATA_NUM|CURR_PAID_CODE|CURR_PAID_AMOUNT|RES_CURR_CODE|RES_AMOUNT|RPT_CURR_CODE| RPT_CURR_AMOUNT|CHECK_NUM|CARDHOLDER_NAME|ACCOUNT_NUM|           REFERENCE|RESULT|RESPONSE_CODE|     EXPIRATION_DATE|          TRAN_ID|VOUCHER_NUM|PMT_COMMENT|TICKET_COUPON_NUMBER|ORIGINAL_PAYMENT_ID|ORIGINAL_PAYMENT_METHOD|MERCHANT_ID|PROCESSOR_NAME|CCPROC_DATA_01|CCPROC_DATA_02|CCPROC_DATA_03|CCPROC_DATA_04|CCPROC_DATA_05|        REPORTTZ|        CREATED_DATE|  LAST_MODIFIED_DATE|AUTHORIZATION_CODE|HES|COST_CENTER|FOLIO_ID|\n",
            "+----------+-------+--------+--------------------+----------+--------+--------------+----------+----------------+-------------+----------------------+-----------+--------------------+--------------+-----------------------+------------+--------------------+--------------+------------------------+-------------------+--------------------------+--------------+----------------+--------+--------------+----------------+-------------+----------+-------------+----------------+---------+---------------+-----------+--------------------+------+-------------+--------------------+-----------------+-----------+-----------+--------------------+-------------------+-----------------------+-----------+--------------+--------------+--------------+--------------+--------------+--------------+----------------+--------------------+--------------------+------------------+---+-----------+--------+\n",
            "|2022-07-05|      S|20220705|26fc6d8303f81a96e...|  31904064|62940250|     XOOWDS299|       299|          XOOWDS|         null|                      |       null|                    |             8|                EXT_WEB|    62940057|05-JUL-2022 23:59:53|             1|                Approved|               CASH|                      Cash|          null|                |        |           USD|    75.240000000|          USD|     75.24|          CLP| 70199.000000000|     null|              -|          0|WEB-PE-PAYPAL_CRE...|      |             |06-JUL-2022 00:00:00|5JF39609CR595902A|           |           |                    |               null|                       |          ?|              |              |              |              |              |              |America/Santiago|05-JUL-2022 23:59:53|05-JUL-2022 23:59:53|  d82a1c2a57487702|   |           |     N/A|\n",
            "|2022-07-05|      S|20220705|26fc6d8303f81a96e...|  31897057|55731381|     RBPDO3299|       299|          RBPDO3|         null|                      |       null|                    |             8|                EXT_WEB|     EXT_WEB|05-JUL-2022 18:02:21|             1|                Approved|               VCHR|                   Voucher|          null|                |        |           CLP| 64616.000000000|          CLP|     64616|          CLP| 64616.000000000|     null|               |           |                    |      |             |                    |                1|     3X3B7S|           |                    |               null|                       |           |              |              |              |              |              |              |America/Santiago|05-JUL-2022 18:02:21|05-JUL-2022 18:02:21|                  |   |           |     N/A|\n",
            "|2022-07-05|      S|20220705|26fc6d8303f81a96e...|  31895787|62908113|     OLLOSD299|       299|          OLLOSD|           84|            CCATENTOCL|        406|          CCATENTOCL|             1|               STANDARD|  jquispe.cl|05-JUL-2022 17:11:19|             1|                Approved|               VCHR|                   Voucher|          null|                |        |           USD|    35.980000000|          USD|     35.98|          CLP| 33569.000000000|     null|               |           |                    |      |             |                    |                 |     XNLZC3|           |                    |               null|                       |           |              |              |              |              |              |              |America/Santiago|05-JUL-2022 17:11:19|05-JUL-2022 17:11:19|                  |   |           |     N/A|\n",
            "|2022-07-05|      S|20220705|26fc6d8303f81a96e...|  31895411|58516509|     EABVYE299|       299|          EABVYE|         null|                      |       null|                    |             8|                EXT_WEB|     EXT_WEB|05-JUL-2022 16:58:52|             1|                Approved|               VCHR|                   Voucher|          null|                |        |           USD|    10.620000000|          USD|     10.62|          CLP|  9908.000000000|     null|               |           |                    |      |             |                    |                1|     98X2FX|           |                    |               null|                       |           |              |              |              |              |              |              |America/Santiago|05-JUL-2022 16:58:52|05-JUL-2022 16:58:52|                  |   |           |     N/A|\n",
            "|2022-07-05|      S|20220705|26fc6d8303f81a96e...|  31881335|51681896|     6BG426299|       299|          6BG426|         null|                      |       null|                    |             8|                EXT_WEB|       WebPE|05-JUL-2022 03:07:50|             1|                Approved|               VCHR|                   Voucher|          null|                |        |           USD|    57.850000000|          USD|     57.85|          CLP| 53569.000000000|     null|               |           |                    |      |             |                    |                1|     VHV75V|           |                    |               null|                       |           |              |              |              |              |              |              |America/Santiago|05-JUL-2022 03:07:50|05-JUL-2022 03:07:50|                  |   |           |     N/A|\n",
            "|2022-07-05|      S|20220705|26fc6d8303f81a96e...|  31885300|53831571|     HNM7AD299|       299|          HNM7AD|         null|                      |       null|                    |             8|                EXT_WEB|     EXT_WEB|05-JUL-2022 11:04:10|             1|                Approved|               VCHR|                   Voucher|          null|                |        |           CLP| 49996.000000000|          CLP|     49996|          CLP| 49996.000000000|     null|               |           |                    |      |             |                    |                1|     1NZHYW|           |                    |               null|                       |           |              |              |              |              |              |              |America/Santiago|05-JUL-2022 11:04:10|05-JUL-2022 11:04:10|                  |   |           |     N/A|\n",
            "|2022-07-05|      S|20220705|26fc6d8303f81a96e...|  31885458|46759210|     7XTX4Y299|       299|          7XTX4Y|         null|                      |       null|                    |             8|                EXT_WEB|     EXT_WEB|05-JUL-2022 11:08:51|             1|                Approved|               VCHR|                   Voucher|          null|                |        |           CLP| 62712.000000000|          CLP|     62712|          CLP| 62712.000000000|     null|               |           |                    |      |             |                    |                1|     PFTKYC|           |                    |               null|                       |           |              |              |              |              |              |              |America/Santiago|05-JUL-2022 11:08:51|05-JUL-2022 11:08:51|                  |   |           |     N/A|\n",
            "|2022-07-05|      S|20220705|26fc6d8303f81a96e...|  31892727|62876793|     236OD6299|       299|          236OD6|         null|                      |       null|                    |             8|                EXT_WEB|     EXT_WEB|05-JUL-2022 15:18:18|             1|                Approved|               VCHR|                   Voucher|          null|                |        |           CLP| 34365.000000000|          CLP|     34365|          CLP| 34365.000000000|     null|               |           |                    |      |             |                    |                1|     N9SNNV|           |                    |               null|                       |           |              |              |              |              |              |              |America/Santiago|05-JUL-2022 15:18:18|05-JUL-2022 15:18:18|                  |   |           |     N/A|\n",
            "|2022-07-05|      S|20220705|26fc6d8303f81a96e...|  31891337|62894624|     X7MJZH299|       299|          X7MJZH|           84|            CCATENTOCL|        406|          CCATENTOCL|             1|               STANDARD|   m.torrest|05-JUL-2022 14:24:51|             1|                Approved|               VCHR|                   Voucher|          null|                |        |           CLP| 90698.000000000|          CLP|     90698|          CLP| 90698.000000000|     null|               |           |                    |      |             |                    |                 |     29QW9N|           |                    |               null|                       |           |              |              |              |              |              |              |America/Santiago|05-JUL-2022 14:24:51|05-JUL-2022 14:24:51|                  |   |           |     N/A|\n",
            "|2022-07-05|      S|20220705|26fc6d8303f81a96e...|  31900602|62927313|     QCGZCB299|       299|          QCGZCB|           84|            CCATENTOCL|        406|          CCATENTOCL|             1|               STANDARD|m.apolinario|05-JUL-2022 20:40:28|             1|                Approved|               VCHR|                   Voucher|          null|                |        |           CLP|440728.000000000|          CLP|    440728|          CLP|440728.000000000|     null|               |           |                    |      |             |                    |                 |     RQP8YM|           |                    |               null|                       |           |              |              |              |              |              |              |America/Santiago|05-JUL-2022 20:40:28|05-JUL-2022 20:40:28|                  |   |           |     N/A|\n",
            "|2022-07-05|      S|20220705|26fc6d8303f81a96e...|  31891579|62900700|     6EZL6X299|       299|          6EZL6X|           55|           SCL HOLDING|        167|         SCL HOLDING|             1|               STANDARD| v.fernandez|05-JUL-2022 14:36:23|             1|                Approved|               VCHR|                   Voucher|           177|         CLGGDIR|        |           CLP| 25496.000000000|          CLP|     25496|          CLP| 25496.000000000|     null|               |           |                    |      |             |                    |                 |     Y1WLXL|           |                    |               null|                       |           |              |              |              |              |              |              |America/Santiago|05-JUL-2022 14:36:23|05-JUL-2022 14:36:23|                  |   |           |        |\n",
            "|2022-07-05|      S|20220705|26fc6d8303f81a96e...|  31902900|52980288|     23R9JH299|       299|          23R9JH|         null|                      |       null|                    |             8|                EXT_WEB|     EXT_WEB|05-JUL-2022 22:52:37|             1|                Approved|               VCHR|                   Voucher|          null|                |        |           CLP| 31996.000000000|          CLP|     31996|          CLP| 31996.000000000|     null|               |           |                    |      |             |                    |                1|     D9J5Z3|           |                    |               null|                       |           |              |              |              |              |              |              |America/Santiago|05-JUL-2022 22:52:37|05-JUL-2022 22:52:37|                  |   |           |     N/A|\n",
            "|2022-07-05|      S|20220705|26fc6d8303f81a96e...|  31899365|49183095|     ZKFZIJ299|       299|          ZKFZIJ|         null|                      |       null|                    |             8|                EXT_WEB|       WebPE|05-JUL-2022 19:40:34|             1|                Approved|               VCHR|                   Voucher|          null|                |        |           USD|    86.180000000|          USD|     86.18|          CLP| 80406.000000000|     null|               |           |                    |      |             |                    |                1|     FBX19V|           |                    |               null|                       |           |              |              |              |              |              |              |America/Santiago|05-JUL-2022 19:40:34|05-JUL-2022 19:40:34|                  |   |           |     N/A|\n",
            "|2022-07-05|      S|20220705|26fc6d8303f81a96e...|  31902508|41052728|     NLE2UJ299|       299|          NLE2UJ|         null|                      |       null|                    |             8|                EXT_WEB|       WebPE|05-JUL-2022 22:29:25|             1|                Approved|               VCHR|                   Voucher|          null|                |        |           USD|    44.100000000|          USD|      44.1|          CLP| 41145.000000000|     null|               |           |                    |      |             |                    |                1|     YZFLFP|           |                    |               null|                       |           |              |              |              |              |              |              |America/Santiago|05-JUL-2022 22:29:25|05-JUL-2022 22:29:25|                  |   |           |     N/A|\n",
            "|2022-07-05|      S|20220705|26fc6d8303f81a96e...|  31886047|51550940|     R9OIDD299|       299|          R9OIDD|         null|                      |       null|                    |             8|                EXT_WEB|     EXT_WEB|05-JUL-2022 11:34:10|             1|                Approved|               VCHR|                   Voucher|          null|                |        |           CLP| 39996.000000000|          CLP|     39996|          CLP| 39996.000000000|     null|               |           |                    |      |             |                    |                1|     B9XV8Y|           |                    |               null|                       |           |              |              |              |              |              |              |America/Santiago|05-JUL-2022 11:34:10|05-JUL-2022 11:34:10|                  |   |           |     N/A|\n",
            "|2022-07-05|      S|20220705|26fc6d8303f81a96e...|  31903679|55569158|     AAD0VA299|       299|          AAD0VA|         null|                      |       null|                    |             8|                EXT_WEB|       WebPE|05-JUL-2022 23:37:55|             1|                Approved|               VCHR|                   Voucher|          null|                |        |           USD|   184.380000000|          USD|    184.38|          CLP|172027.000000000|     null|               |           |                    |      |             |                    |                1|     KFRZLR|           |                    |               null|                       |           |              |              |              |              |              |              |America/Santiago|05-JUL-2022 23:37:55|05-JUL-2022 23:37:55|                  |   |           |     N/A|\n",
            "|2022-07-05|      S|20220705|26fc6d8303f81a96e...|  31902290|48113563|     L0ME3N299|       299|          L0ME3N|         null|                      |       null|                    |             8|                EXT_WEB|       WebPE|05-JUL-2022 22:18:46|             1|                Approved|               VCHR|                   Voucher|          null|                |        |           USD|   268.380000000|          USD|    268.38|          CLP|250399.000000000|     null|               |           |                    |      |             |                    |                1|     Y1B3BJ|           |                    |               null|                       |           |              |              |              |              |              |              |America/Santiago|05-JUL-2022 22:18:46|05-JUL-2022 22:18:46|                  |   |           |     N/A|\n",
            "|2022-07-05|      S|20220705|26fc6d8303f81a96e...|  31903419|50042644|     JG878O299|       299|          JG878O|         null|                      |       null|                    |             8|                EXT_WEB|       WebPE|05-JUL-2022 23:20:52|             1|                Approved|               VCHR|                   Voucher|          null|                |        |           USD|    42.550000000|          USD|     42.55|          CLP| 39699.000000000|     null|               |           |                    |      |             |                    |                1|     31X7ZT|           |                    |               null|                       |           |              |              |              |              |              |              |America/Santiago|05-JUL-2022 23:20:52|05-JUL-2022 23:20:52|                  |   |           |     N/A|\n",
            "|2022-07-05|      S|20220705|26fc6d8303f81a96e...|  31890762|62898597|     TNFBP5299|       299|          TNFBP5|           84|            CCATENTOCL|        406|          CCATENTOCL|             1|               STANDARD|  jrodriguez|05-JUL-2022 14:00:25|             1|                Approved|               VCHR|                   Voucher|           108|         CLDCSCC|        |           USD|     4.520000000|          USD|      4.52|          CLP|  4217.000000000|     null|               |           |                    |      |             |                    |                 |     8XRMBS|           |                    |               null|                       |           |              |              |              |              |              |              |America/Santiago|05-JUL-2022 14:00:25|05-JUL-2022 14:01:15|                  |   |           |     N/A|\n",
            "|2022-07-05|      S|20220705|26fc6d8303f81a96e...|  31901347|62930951|     I3NBOW299|       299|          I3NBOW|           84|            CCATENTOCL|        406|          CCATENTOCL|             1|               STANDARD|   c.llantoy|05-JUL-2022 21:24:32|             1|                Approved|               VCHR|                   Voucher|          null|                |        |           CLP| 85286.000000000|          USD|     91.41|          CLP| 85286.000000000|     null|               |           |                    |      |             |                    |                 |     23LFTM|           |                    |               null|                       |           |              |              |              |              |              |              |America/Santiago|05-JUL-2022 21:24:32|05-JUL-2022 21:24:32|                  |   |           |     N/A|\n",
            "+----------+-------+--------+--------------------+----------+--------+--------------+----------+----------------+-------------+----------------------+-----------+--------------------+--------------+-----------------------+------------+--------------------+--------------+------------------------+-------------------+--------------------------+--------------+----------------+--------+--------------+----------------+-------------+----------+-------------+----------------+---------+---------------+-----------+--------------------+------+-------------+--------------------+-----------------+-----------+-----------+--------------------+-------------------+-----------------------+-----------+--------------+--------------+--------------+--------------+--------------+--------------+----------------+--------------------+--------------------+------------------+---+-----------+--------+\n",
            "only showing top 20 rows\n",
            "\n"
          ]
        }
      ]
    },
    {
      "cell_type": "code",
      "source": [
        "payments_count = spark.sql(\n",
        "    'SELECT COUNT(DISTINCT(PAYMENT_ID)) FROM payments WHERE TRAN_STATUS_ID=1'\n",
        ")"
      ],
      "metadata": {
        "id": "tEDTsYsLAbV6"
      },
      "execution_count": null,
      "outputs": []
    },
    {
      "cell_type": "code",
      "source": [
        "payments_count.show()"
      ],
      "metadata": {
        "colab": {
          "base_uri": "https://localhost:8080/"
        },
        "id": "8B9Aw0qiPI8y",
        "outputId": "48f7cbc5-4bb6-4d3f-8858-60ef182d1ee9"
      },
      "execution_count": null,
      "outputs": [
        {
          "output_type": "stream",
          "name": "stdout",
          "text": [
            "+--------------------------+\n",
            "|count(DISTINCT PAYMENT_ID)|\n",
            "+--------------------------+\n",
            "|                     23100|\n",
            "+--------------------------+\n",
            "\n"
          ]
        }
      ]
    },
    {
      "cell_type": "code",
      "source": [
        "payments_map = spark.read.format('bigquery') \\\n",
        "  .option('table', 'data-intelligence-350116:ODS_RADIXX.tb_enh_payment_map') \\\n",
        "  .option(\"filter\", \"  ID_DATE_BQ='2022-07-05' \") \\\n",
        "  .load()"
      ],
      "metadata": {
        "id": "a9Lk0fNnRU3C"
      },
      "execution_count": null,
      "outputs": []
    },
    {
      "cell_type": "code",
      "source": [
        "payments_map.createOrReplaceTempView('payments_map')"
      ],
      "metadata": {
        "id": "EQf_KnA7RU0j"
      },
      "execution_count": null,
      "outputs": []
    },
    {
      "cell_type": "code",
      "source": [
        "charge = spark.read.format('bigquery') \\\n",
        "  .option('table', 'data-intelligence-350116:ODS_RADIXX.tb_enh_charge') \\\n",
        "  .option(\"filter\", \"  ID_DATE_BQ='2022-07-05' \") \\\n",
        "  .load()\n",
        "\n",
        "charge.createOrReplaceTempView('charge')"
      ],
      "metadata": {
        "id": "hIP_rDfHRUwB"
      },
      "execution_count": null,
      "outputs": []
    },
    {
      "cell_type": "code",
      "source": [
        "segment = spark.read.format('bigquery') \\\n",
        "  .option('table', 'data-intelligence-350116:ODS_RADIXX.tb_enh_segment') \\\n",
        "  .option(\"filter\", \"  ID_DATE_BQ='2022-07-05' \") \\\n",
        "  .load()\n",
        "\n",
        "segment.createOrReplaceTempView('segment')"
      ],
      "metadata": {
        "id": "OgVoFDzIXz6Q"
      },
      "execution_count": null,
      "outputs": []
    },
    {
      "cell_type": "code",
      "source": [
        "cuadratura_sql_1 = spark.sql(\n",
        "    \"\"\"\n",
        "    SELECT\n",
        "    ROW_NUMBER() OVER (ORDER BY pag.ID_DATE_BQ) AS llave_registro,\n",
        "    CONCAT(TO_DATE(CAST(UNIX_TIMESTAMP(pag.date_paid, 'dd-MMM-yyyy HH:mm:ss') AS TIMESTAMP)),'_',pag.confirmation_num,'_',pag.series_num,'_',pag.payment_id) AS llave_1,\n",
        "    CONCAT(TO_DATE(CAST(UNIX_TIMESTAMP(pag.date_paid, 'dd-MMM-yyyy HH:mm:ss') AS TIMESTAMP)),'_',pag.confirmation_num,'_',pag.series_num) AS llave_2,\n",
        "    TO_DATE(CAST(UNIX_TIMESTAMP(pag.date_paid, 'dd-MMM-yyyy HH:mm:ss') AS TIMESTAMP)) AS fecha_pago,\n",
        "    pag.confirmation_num AS reserva_radixx,\n",
        "    pag.series_num AS series_num,\n",
        "    pag.payment_id AS id_pago,\n",
        "    pag.payment_method_code AS codigo_fop,\n",
        "    pag.curr_paid_code AS moneda_pag_real,\n",
        "    pag.curr_paid_amount AS monto_pag_real,\n",
        "    pag.res_curr_code AS moneda_pag_res,\n",
        "    pag.res_amount AS monto_pag_res,\n",
        "    pag.rpt_curr_code AS moneda_pag_rpt,\n",
        "    pag.rpt_curr_amount AS monto_pag_rpt,\n",
        "    pag.payer_id AS id_pagador\n",
        "    FROM payments AS pag\n",
        "    WHERE\n",
        "    ID_DATE_BQ>='2022-07-05' AND\n",
        "    ID_DATE_BQ<='2022-07-05' AND\n",
        "    pag.payment_method_code NOT IN ('TKNE','TCKT') AND\n",
        "    pag.tran_status_id=1 AND\n",
        "    pag.curr_paid_amount>0\n",
        "    \"\"\"\n",
        ")\n",
        "cuadratura_result_1 = cuadratura_sql_1.show()\n",
        "cuadratura_result_1 = cuadratura_sql_1.createOrReplaceTempView('cuadratura_result_1')"
      ],
      "metadata": {
        "colab": {
          "base_uri": "https://localhost:8080/"
        },
        "id": "CzNO1WFyRUmx",
        "outputId": "93a2df0f-96c1-46b7-931d-80b4dc26716a"
      },
      "execution_count": null,
      "outputs": [
        {
          "output_type": "stream",
          "name": "stdout",
          "text": [
            "+--------------+--------------------+--------------------+----------+--------------+----------+--------+----------+---------------+----------------+--------------+-------------+--------------+----------------+----------+\n",
            "|llave_registro|             llave_1|             llave_2|fecha_pago|reserva_radixx|series_num| id_pago|codigo_fop|moneda_pag_real|  monto_pag_real|moneda_pag_res|monto_pag_res|moneda_pag_rpt|   monto_pag_rpt|id_pagador|\n",
            "+--------------+--------------------+--------------------+----------+--------------+----------+--------+----------+---------------+----------------+--------------+-------------+--------------+----------------+----------+\n",
            "|             1|2022-07-05_XOOWDS...|2022-07-05_XOOWDS...|2022-07-05|        XOOWDS|       299|31904064|      CASH|            USD|    75.240000000|           USD|        75.24|           CLP| 70199.000000000|  62940250|\n",
            "|             2|2022-07-05_RBPDO3...|2022-07-05_RBPDO3...|2022-07-05|        RBPDO3|       299|31897057|      VCHR|            CLP| 64616.000000000|           CLP|        64616|           CLP| 64616.000000000|  55731381|\n",
            "|             3|2022-07-05_OLLOSD...|2022-07-05_OLLOSD...|2022-07-05|        OLLOSD|       299|31895787|      VCHR|            USD|    35.980000000|           USD|        35.98|           CLP| 33569.000000000|  62908113|\n",
            "|             4|2022-07-05_EABVYE...|2022-07-05_EABVYE...|2022-07-05|        EABVYE|       299|31895411|      VCHR|            USD|    10.620000000|           USD|        10.62|           CLP|  9908.000000000|  58516509|\n",
            "|             5|2022-07-05_6BG426...|2022-07-05_6BG426...|2022-07-05|        6BG426|       299|31881335|      VCHR|            USD|    57.850000000|           USD|        57.85|           CLP| 53569.000000000|  51681896|\n",
            "|             6|2022-07-05_HNM7AD...|2022-07-05_HNM7AD...|2022-07-05|        HNM7AD|       299|31885300|      VCHR|            CLP| 49996.000000000|           CLP|        49996|           CLP| 49996.000000000|  53831571|\n",
            "|             7|2022-07-05_7XTX4Y...|2022-07-05_7XTX4Y...|2022-07-05|        7XTX4Y|       299|31885458|      VCHR|            CLP| 62712.000000000|           CLP|        62712|           CLP| 62712.000000000|  46759210|\n",
            "|             8|2022-07-05_236OD6...|2022-07-05_236OD6...|2022-07-05|        236OD6|       299|31892727|      VCHR|            CLP| 34365.000000000|           CLP|        34365|           CLP| 34365.000000000|  62876793|\n",
            "|             9|2022-07-05_X7MJZH...|2022-07-05_X7MJZH...|2022-07-05|        X7MJZH|       299|31891337|      VCHR|            CLP| 90698.000000000|           CLP|        90698|           CLP| 90698.000000000|  62894624|\n",
            "|            10|2022-07-05_QCGZCB...|2022-07-05_QCGZCB...|2022-07-05|        QCGZCB|       299|31900602|      VCHR|            CLP|440728.000000000|           CLP|       440728|           CLP|440728.000000000|  62927313|\n",
            "|            11|2022-07-05_6EZL6X...|2022-07-05_6EZL6X...|2022-07-05|        6EZL6X|       299|31891579|      VCHR|            CLP| 25496.000000000|           CLP|        25496|           CLP| 25496.000000000|  62900700|\n",
            "|            12|2022-07-05_23R9JH...|2022-07-05_23R9JH...|2022-07-05|        23R9JH|       299|31902900|      VCHR|            CLP| 31996.000000000|           CLP|        31996|           CLP| 31996.000000000|  52980288|\n",
            "|            13|2022-07-05_ZKFZIJ...|2022-07-05_ZKFZIJ...|2022-07-05|        ZKFZIJ|       299|31899365|      VCHR|            USD|    86.180000000|           USD|        86.18|           CLP| 80406.000000000|  49183095|\n",
            "|            14|2022-07-05_NLE2UJ...|2022-07-05_NLE2UJ...|2022-07-05|        NLE2UJ|       299|31902508|      VCHR|            USD|    44.100000000|           USD|         44.1|           CLP| 41145.000000000|  41052728|\n",
            "|            15|2022-07-05_R9OIDD...|2022-07-05_R9OIDD...|2022-07-05|        R9OIDD|       299|31886047|      VCHR|            CLP| 39996.000000000|           CLP|        39996|           CLP| 39996.000000000|  51550940|\n",
            "|            16|2022-07-05_AAD0VA...|2022-07-05_AAD0VA...|2022-07-05|        AAD0VA|       299|31903679|      VCHR|            USD|   184.380000000|           USD|       184.38|           CLP|172027.000000000|  55569158|\n",
            "|            17|2022-07-05_L0ME3N...|2022-07-05_L0ME3N...|2022-07-05|        L0ME3N|       299|31902290|      VCHR|            USD|   268.380000000|           USD|       268.38|           CLP|250399.000000000|  48113563|\n",
            "|            18|2022-07-05_JG878O...|2022-07-05_JG878O...|2022-07-05|        JG878O|       299|31903419|      VCHR|            USD|    42.550000000|           USD|        42.55|           CLP| 39699.000000000|  50042644|\n",
            "|            19|2022-07-05_TNFBP5...|2022-07-05_TNFBP5...|2022-07-05|        TNFBP5|       299|31890762|      VCHR|            USD|     4.520000000|           USD|         4.52|           CLP|  4217.000000000|  62898597|\n",
            "|            20|2022-07-05_I3NBOW...|2022-07-05_I3NBOW...|2022-07-05|        I3NBOW|       299|31901347|      VCHR|            CLP| 85286.000000000|           USD|        91.41|           CLP| 85286.000000000|  62930951|\n",
            "+--------------+--------------------+--------------------+----------+--------------+----------+--------+----------+---------------+----------------+--------------+-------------+--------------+----------------+----------+\n",
            "only showing top 20 rows\n",
            "\n"
          ]
        }
      ]
    },
    {
      "cell_type": "code",
      "source": [
        "cuadratura_sql_2 = spark.sql(\n",
        "    \"\"\"\n",
        "    SELECT \n",
        "    ROW_NUMBER() OVER (ORDER BY neteo.llave_1) AS llave_registro,\n",
        "    neteo.*\n",
        "    FROM (\n",
        "      SELECT\n",
        "      t01.llave_1,\n",
        "      t01.llave_2,\n",
        "      map.res_curr_code AS moneda_map_res,\n",
        "          --SUM(map.res_curr_amount) AS monto_map_res,\n",
        "          (map.res_curr_amount) AS monto_map_res,\n",
        "      map.rpt_curr_code AS moneda_map_rpt,\n",
        "          --SUM(map.rpt_curr_amount) AS monto_map_rpt,\n",
        "          (map.rpt_curr_amount) AS monto_map_rpt,\n",
        "      car.code_type AS codigo_cargo,\n",
        "      COALESCE(car.tax_code,'') As codigo_impuesto,\n",
        "          --MAX(car.charge_id) AS id_cargo,\n",
        "          (car.charge_id) AS id_cargo,\n",
        "          --MAX(car.segment_id) AS id_segmento,\n",
        "          (car.segment_id) AS id_segmento,\n",
        "      seg.passenger_id AS id_pasajero,\n",
        "      seg.from_airport AS origen\n",
        "      FROM cuadratura_result_1 t01\n",
        "          INNER JOIN payments_map AS map ON map.payment_id=t01.id_pago AND map.vigente='S'\n",
        "          INNER JOIN charge AS car ON car.charge_id=map.charge_id AND car.vigente='S'\n",
        "          INNER JOIN segment seg ON seg.segment_id=car.segment_id\n",
        "      WHERE \n",
        "        t01.fecha_pago>='2022-07-05' AND\n",
        "        t01.fecha_pago<='2022-07-05'\n",
        "    ) AS neteo;\n",
        "    \"\"\"\n",
        ")\n",
        "cuadratura_result_2 = cuadratura_sql_2.show()\n",
        "cuadratura_result_2 = cuadratura_sql_2.createOrReplaceTempView('cuadratura_result_2')"
      ],
      "metadata": {
        "colab": {
          "base_uri": "https://localhost:8080/"
        },
        "id": "aq-mj0rWRUTf",
        "outputId": "6e7bc5b4-31f0-4dbc-bee2-7f6ef30830bd"
      },
      "execution_count": null,
      "outputs": [
        {
          "output_type": "stream",
          "name": "stdout",
          "text": [
            "+--------------+--------------------+--------------------+--------------+---------------+--------------+----------------+------------+---------------+---------+-----------+-----------+------+\n",
            "|llave_registro|             llave_1|             llave_2|moneda_map_res|  monto_map_res|moneda_map_rpt|   monto_map_rpt|codigo_cargo|codigo_impuesto| id_cargo|id_segmento|id_pasajero|origen|\n",
            "+--------------+--------------------+--------------------+--------------+---------------+--------------+----------------+------------+---------------+---------+-----------+-----------+------+\n",
            "|             1|2022-07-05_0041MT...|2022-07-05_0041MT...|           CLP|20990.000000000|           CLP| 20990.000000000|         AIR|               |467209373| 0041MT2991|   62892232|   ZCO|\n",
            "|             2|2022-07-05_0041MT...|2022-07-05_0041MT...|           CLP| 6374.000000000|           CLP|  6374.000000000|         TAX|             CL|467209374| 0041MT2991|   62892232|   ZCO|\n",
            "|             3|2022-07-05_0041MT...|2022-07-05_0041MT...|           CLP|13990.000000000|           CLP| 13990.000000000|        1BAG|               |467209375| 0041MT2991|   62892232|   ZCO|\n",
            "|             4|2022-07-05_0041MT...|2022-07-05_0041MT...|           CLP|20990.000000000|           CLP| 20990.000000000|         AIR|               |467209615| 0041MT2992|   62892233|   ZCO|\n",
            "|             5|2022-07-05_0041MT...|2022-07-05_0041MT...|           CLP| 6374.000000000|           CLP|  6374.000000000|         TAX|             CL|467209616| 0041MT2992|   62892233|   ZCO|\n",
            "|             6|2022-07-05_0041MT...|2022-07-05_0041MT...|           CLP|13990.000000000|           CLP| 13990.000000000|        1BAG|               |467209617| 0041MT2992|   62892233|   ZCO|\n",
            "|             7|2022-07-05_0041MT...|2022-07-05_0041MT...|           CLP|10990.000000000|           CLP| 10990.000000000|         AIR|               |467209618| 0041MT2993|   62892232|   SCL|\n",
            "|             8|2022-07-05_0041MT...|2022-07-05_0041MT...|           CLP| 6374.000000000|           CLP|  6374.000000000|         TAX|             CL|467209619| 0041MT2993|   62892232|   SCL|\n",
            "|             9|2022-07-05_0041MT...|2022-07-05_0041MT...|           CLP|12990.000000000|           CLP| 12990.000000000|        1BAG|               |467209620| 0041MT2993|   62892232|   SCL|\n",
            "|            10|2022-07-05_0041MT...|2022-07-05_0041MT...|           CLP|10990.000000000|           CLP| 10990.000000000|         AIR|               |467209621| 0041MT2994|   62892233|   SCL|\n",
            "|            11|2022-07-05_0041MT...|2022-07-05_0041MT...|           CLP| 6374.000000000|           CLP|  6374.000000000|         TAX|             CL|467209622| 0041MT2994|   62892233|   SCL|\n",
            "|            12|2022-07-05_0041MT...|2022-07-05_0041MT...|           CLP|12990.000000000|           CLP| 12990.000000000|        1BAG|               |467209623| 0041MT2994|   62892233|   SCL|\n",
            "|            13|2022-07-05_00AJBJ...|2022-07-05_00AJBJ...|           USD|  220.000000000|           CLP|205260.000000000|         AIR|               |467359017| 00AJBJ2991|   62909031|   LIM|\n",
            "|            14|2022-07-05_00AJBJ...|2022-07-05_00AJBJ...|           USD|   39.600000000|           CLP| 36947.000000000|         TAX|             PE|467359018| 00AJBJ2991|   62909031|   LIM|\n",
            "|            15|2022-07-05_00AJBJ...|2022-07-05_00AJBJ...|           USD|   30.010000000|           CLP| 27999.000000000|         TAX|             HW|467359019| 00AJBJ2991|   62909031|   LIM|\n",
            "|            16|2022-07-05_00AJBJ...|2022-07-05_00AJBJ...|           USD|  220.000000000|           CLP|205260.000000000|         AIR|               |467359020| 00AJBJ2992|   62909032|   LIM|\n",
            "|            17|2022-07-05_00AJBJ...|2022-07-05_00AJBJ...|           USD|   39.600000000|           CLP| 36947.000000000|         TAX|             PE|467359021| 00AJBJ2992|   62909032|   LIM|\n",
            "|            18|2022-07-05_00AJBJ...|2022-07-05_00AJBJ...|           USD|   30.010000000|           CLP| 27999.000000000|         TAX|             HW|467359022| 00AJBJ2992|   62909032|   LIM|\n",
            "|            19|2022-07-05_00J9YD...|2022-07-05_00J9YD...|           USD|   35.000000000|           CLP| 32655.000000000|         AIR|               |467617872| 00J9YD2991|   62937171|   PCL|\n",
            "|            20|2022-07-05_00J9YD...|2022-07-05_00J9YD...|           USD|    6.300000000|           CLP|  5878.000000000|         TAX|             PE|467617873| 00J9YD2991|   62937171|   PCL|\n",
            "+--------------+--------------------+--------------------+--------------+---------------+--------------+----------------+------------+---------------+---------+-----------+-----------+------+\n",
            "only showing top 20 rows\n",
            "\n"
          ]
        }
      ]
    },
    {
      "cell_type": "code",
      "source": [
        "cuadratura_result_2 = cuadratura_sql_1.show()"
      ],
      "metadata": {
        "id": "QV4Ch3MNWPjK"
      },
      "execution_count": null,
      "outputs": []
    }
  ]
}